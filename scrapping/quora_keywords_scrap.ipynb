{
 "cells": [
  {
   "cell_type": "code",
   "execution_count": 1,
   "id": "568b26b8",
   "metadata": {},
   "outputs": [],
   "source": [
    "from selenium import webdriver\n",
    "from selenium.webdriver.chrome.options import Options\n",
    "from selenium.webdriver.chrome.service import Service\n",
    "from selenium.webdriver.common.by import By\n",
    "from bs4 import BeautifulSoup\n",
    "import time\n",
    "import requests\n",
    "import json\n",
    "import pandas as pd\n",
    "import re"
   ]
  },
  {
   "cell_type": "code",
   "execution_count": 2,
   "id": "21dd4323",
   "metadata": {},
   "outputs": [],
   "source": [
    "# pd.set_option('display.max_rows', 500)\n",
    "# pd.set_option('display.max_columns', 500)\n",
    "# pd.set_option('display.width', 1000)\n",
    "pd.set_option('display.max_colwidth', None)"
   ]
  },
  {
   "cell_type": "code",
   "execution_count": 3,
   "id": "11a996ca",
   "metadata": {},
   "outputs": [],
   "source": [
    "options = Options()\n",
    "options.headless = True\n",
    "DRIVER_PATH = r'/usr/bin/chromedriver'\n",
    "service = Service(DRIVER_PATH)\n",
    "driver= webdriver.Chrome(service= service, options=options)"
   ]
  },
  {
   "cell_type": "code",
   "execution_count": 4,
   "id": "950c1136",
   "metadata": {},
   "outputs": [],
   "source": [
    "def is_quoraLink(url):\n",
    "    is_quora_link = re.match(r'https://www.quora.com/', url)\n",
    "    if(is_quora_link):\n",
    "        return True\n",
    "    else: \n",
    "        return False\n",
    "    \n",
    "# print(is_quoraLink())"
   ]
  },
  {
   "cell_type": "code",
   "execution_count": 5,
   "id": "c316c9dc",
   "metadata": {
    "scrolled": true
   },
   "outputs": [],
   "source": [
    "def search_google(search_keyword):\n",
    "    time.sleep(2)\n",
    "    driver.get(\"https://google.com/search?q=\"+search_keyword+ \"&start=\"+str(0))\n",
    "    title_links = driver.find_elements(By.XPATH, \"//div[@class='yuRUbf']/a\")\n",
    "    titles = []\n",
    "    title_url = []\n",
    "    for x in title_links:\n",
    "        if(is_quoraLink(x.get_attribute(\"href\"))):\n",
    "            time.sleep(5)\n",
    "            titles.append(x.text.split('\\n')[0].strip())\n",
    "            title_url.append(x.get_attribute(\"href\"))\n",
    "    \n",
    "    return titles, title_url\n",
    "\n",
    "    \n",
    "# print(search_google('Overseas+education+search+on+quora'))\n"
   ]
  },
  {
   "cell_type": "code",
   "execution_count": 6,
   "id": "da557019",
   "metadata": {},
   "outputs": [],
   "source": [
    "def search_quora(urls):\n",
    "    answers = []\n",
    "    upvotes = []\n",
    "    for url in urls:\n",
    "        time.sleep(2)\n",
    "        req = requests.get(url)\n",
    "        soup = BeautifulSoup(req.content, 'html.parser')\n",
    "        resp = json.loads(soup.find('script', type='application/ld+json').text)\n",
    "        ans = []\n",
    "        upvote = []\n",
    "        for x in resp:\n",
    "            if(x=='mainEntity'):\n",
    "                for x in resp['mainEntity']['suggestedAnswer']:\n",
    "                    ans.append(x['text'])\n",
    "                    upvote.append(x['upvoteCount'])\n",
    "\n",
    "        answers.append(ans)\n",
    "        upvotes.append(upvote)\n",
    "    \n",
    "    return answers, upvotes"
   ]
  },
  {
   "cell_type": "code",
   "execution_count": 12,
   "id": "a802391a",
   "metadata": {},
   "outputs": [],
   "source": [
    "def represent_data(data, key):\n",
    "    df = pd.DataFrame(data)\n",
    "    df.to_csv(key+\".csv\")\n",
    "    display(df)"
   ]
  },
  {
   "cell_type": "code",
   "execution_count": 13,
   "id": "1d09e91f",
   "metadata": {},
   "outputs": [],
   "source": [
    "KEYWORDS = [\"Study abroad\",\n",
    "\"International Education\", \n",
    "\"Overseas education\", \n",
    "\"overseas education for Indian students\",\n",
    "\"Indian students in Abroad\",\n",
    "\"Study in Canada\",\n",
    "\"Study in USA\",\n",
    "\"Study in UK\", \n",
    "\"Study in Australia\", \n",
    "\"Abroad education\", \n",
    "\"MBA from USA\",\n",
    "\"Diploma in Canada\",\n",
    "\"PR in canada\"]\n",
    "\n",
    "# KEYWORDS = [\"top 5 college to study abroad\", \n",
    "#             \"best country to study abroad\", \n",
    "#             \"top 5 college to Study in Canada\",\n",
    "#            \"how to apply for Study in Canada\"]"
   ]
  },
  {
   "cell_type": "code",
   "execution_count": null,
   "id": "bdd83f26",
   "metadata": {},
   "outputs": [],
   "source": [
    "for key in KEYWORDS:\n",
    "    time.sleep(5)\n",
    "    search_keyword = key +\" search on quora\"\n",
    "    search_keyword = search_keyword.replace(' ', '+') \n",
    "    title, url = search_google(search_keyword)\n",
    "    ans, upvote = search_quora(url)\n",
    "    data ={'TITLE':title, 'URL':url, 'ANSWER': ans, 'UPVOTE': upvote}\n",
    "    represent_data(data, key)"
   ]
  }
 ],
 "metadata": {
  "kernelspec": {
   "display_name": "Python 3 (ipykernel)",
   "language": "python",
   "name": "python3"
  },
  "language_info": {
   "codemirror_mode": {
    "name": "ipython",
    "version": 3
   },
   "file_extension": ".py",
   "mimetype": "text/x-python",
   "name": "python",
   "nbconvert_exporter": "python",
   "pygments_lexer": "ipython3",
   "version": "3.8.10"
  }
 },
 "nbformat": 4,
 "nbformat_minor": 5
}
